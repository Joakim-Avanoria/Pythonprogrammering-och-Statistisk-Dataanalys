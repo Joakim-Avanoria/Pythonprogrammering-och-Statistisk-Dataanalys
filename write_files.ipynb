{
 "cells": [
  {
   "cell_type": "markdown",
   "id": "07c3ad48",
   "metadata": {},
   "source": [
    "# Skriva till filer\n",
    "\n",
    "När vi försöker skriva till en fil som inte finns så kommer den att skapas automatiskt"
   ]
  },
  {
   "cell_type": "code",
   "execution_count": 5,
   "id": "330345eb",
   "metadata": {},
   "outputs": [],
   "source": [
    "with open(\"files/example.txt\", \"w\", encoding=\"utf-8\") as f:      # w = write\n",
    "    f.write(\"Hello World! \\n\")\n",
    "    f.write(\"Det här är första raden i filen \\n\")"
   ]
  },
  {
   "cell_type": "code",
   "execution_count": 7,
   "id": "02ebb531",
   "metadata": {},
   "outputs": [],
   "source": [
    "with open(\"files/example.txt\", \"a\", encoding=\"utf-8\") as f:      # a = append\n",
    "    f.write(\"Det här vill vi lägga till \\n\")"
   ]
  },
  {
   "cell_type": "code",
   "execution_count": 8,
   "id": "9599b3a8",
   "metadata": {},
   "outputs": [],
   "source": [
    "with open(\"files/test.txt\", \"a\", encoding=\"utf-8\") as f:      # a = append\n",
    "    f.write(\"Kan vi lägga till i en fil som inte finns?\\n\")"
   ]
  },
  {
   "cell_type": "code",
   "execution_count": 9,
   "id": "8db1af52",
   "metadata": {},
   "outputs": [],
   "source": [
    "lines = [\"Rad 1\\n\", \"Rad 2\\n\", \"Rad 3\\n\"]\n",
    "\n",
    "with open(\"files/multilines.txt\", \"w\", encoding=\"utf-8\") as file:\n",
    "    file.writelines(lines)"
   ]
  },
  {
   "cell_type": "code",
   "execution_count": 12,
   "id": "402123e7",
   "metadata": {},
   "outputs": [],
   "source": [
    "with open(\"files/test.txt\", \"w\", encoding=\"utf-8\") as f:\n",
    "    print(\"Hello world\", file=f)\n",
    "    print(\"En rad till\", file=f)"
   ]
  },
  {
   "cell_type": "code",
   "execution_count": 13,
   "id": "b31cd121",
   "metadata": {},
   "outputs": [],
   "source": [
    "with open(\"files/test.txt\", \"a\", encoding=\"utf-8\") as f:\n",
    "    print(\"Fungera det med append också?\", file=f)"
   ]
  },
  {
   "cell_type": "code",
   "execution_count": 14,
   "id": "b93a0a5e",
   "metadata": {},
   "outputs": [],
   "source": [
    "while True:\n",
    "    note = input(\"Skriv en anteckning (eller 'q' för att avsluta):\")\n",
    "    if note.lower() == \"q\":\n",
    "        break\n",
    "    with open(\"files/notes.txt\", \"a\", encoding=\"utf-8\") as file:\n",
    "        file.write(note + \"\\n\")"
   ]
  }
 ],
 "metadata": {
  "kernelspec": {
   "display_name": ".venv",
   "language": "python",
   "name": "python3"
  },
  "language_info": {
   "codemirror_mode": {
    "name": "ipython",
    "version": 3
   },
   "file_extension": ".py",
   "mimetype": "text/x-python",
   "name": "python",
   "nbconvert_exporter": "python",
   "pygments_lexer": "ipython3",
   "version": "3.13.7"
  }
 },
 "nbformat": 4,
 "nbformat_minor": 5
}
