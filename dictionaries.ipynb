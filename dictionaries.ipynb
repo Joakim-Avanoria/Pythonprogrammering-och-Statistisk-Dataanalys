{
 "cells": [
  {
   "cell_type": "markdown",
   "id": "d3d31637",
   "metadata": {},
   "source": [
    "# Dictionaries\n",
    "\n",
    "nyckel/värde"
   ]
  },
  {
   "cell_type": "code",
   "execution_count": 3,
   "id": "66bf6a03",
   "metadata": {},
   "outputs": [
    {
     "name": "stdout",
     "output_type": "stream",
     "text": [
      "{'name': 'Joakim', 'age': 38, 'city': 'Västerås'}\n",
      "Joakim\n",
      "38\n"
     ]
    }
   ],
   "source": [
    "person = {\n",
    "  \"name\": \"Joakim\",\n",
    "  \"age\": 38,\n",
    "  \"city\": \"Västerås\"\n",
    "}\n",
    "\n",
    "print(person)\n",
    "print(person[\"name\"])\n",
    "print(person[\"age\"])"
   ]
  },
  {
   "cell_type": "code",
   "execution_count": 7,
   "id": "134e35e1",
   "metadata": {},
   "outputs": [
    {
     "name": "stdout",
     "output_type": "stream",
     "text": [
      "{'name': 'Joakim', 'age': 27, 'email': 'joakim@domain.com'}\n"
     ]
    }
   ],
   "source": [
    "person[\"age\"] = 27\n",
    "person[\"email\"] = \"joakim@domain.com\"\n",
    "del person[\"city\"]\n",
    "\n",
    "print(person)"
   ]
  },
  {
   "cell_type": "code",
   "execution_count": 11,
   "id": "a17d6526",
   "metadata": {},
   "outputs": [
    {
     "name": "stdout",
     "output_type": "stream",
     "text": [
      "['name', 'age', 'email']\n",
      "dict_values(['Joakim', 27, 'joakim@domain.com'])\n",
      "dict_items([('name', 'Joakim'), ('age', 27), ('email', 'joakim@domain.com')])\n"
     ]
    }
   ],
   "source": [
    "print(list(person.keys()))\n",
    "print(person.values())\n",
    "print(person.items())"
   ]
  },
  {
   "cell_type": "code",
   "execution_count": 12,
   "id": "b9cb8af2",
   "metadata": {},
   "outputs": [
    {
     "name": "stdout",
     "output_type": "stream",
     "text": [
      "name : Joakim\n",
      "age : 27\n",
      "email : joakim@domain.com\n"
     ]
    }
   ],
   "source": [
    "for key, value in person.items():\n",
    "    print(key, \":\", value)"
   ]
  },
  {
   "cell_type": "markdown",
   "id": "6d0c6946",
   "metadata": {},
   "source": [
    "## Sets"
   ]
  },
  {
   "cell_type": "code",
   "execution_count": 15,
   "id": "0023ea1a",
   "metadata": {},
   "outputs": [
    {
     "name": "stdout",
     "output_type": "stream",
     "text": [
      "['apple', 'banana', 'orange', 'apple']\n",
      "{'orange', 'apple', 'banana'}\n"
     ]
    }
   ],
   "source": [
    "# fruits = {\"apple\", \"banana\", \"orange\", \"apple\"}\n",
    "fruits = [\"apple\", \"banana\", \"orange\", \"apple\"]\n",
    "\n",
    "fruits_set = set(fruits)\n",
    "\n",
    "print(fruits)\n",
    "print(fruits_set)"
   ]
  },
  {
   "cell_type": "code",
   "execution_count": 21,
   "id": "711ae7a0",
   "metadata": {},
   "outputs": [
    {
     "name": "stdout",
     "output_type": "stream",
     "text": [
      "There are 2 red cars\n",
      "There are 1 black cars\n",
      "There are 1 blue cars\n"
     ]
    }
   ],
   "source": [
    "def car_color_count(dictionary):\n",
    "    colors = list(dictionary.values())\n",
    "\n",
    "    for color in set(colors):\n",
    "        num = colors.count(color)\n",
    "        print(f\"There are {num} {color} cars\")\n",
    "\n",
    "def cars_in_garage(dictionary):\n",
    "    for key, val in dictionary.items():\n",
    "        print(f\"{key} is a {val} car\")\n",
    "\n",
    "cars = {}\n",
    "\n",
    "while True:\n",
    "    reg = input(\"Enter car registration number: \")\n",
    "    color = input(\"Enter car color: \")\n",
    "\n",
    "    cars[reg] = color\n",
    "\n",
    "    another = input(\"Add another car? (y/n): \")\n",
    "    if another == \"y\":\n",
    "        continue\n",
    "    else:\n",
    "        break\n",
    "\n",
    "# cars_in_garage(cars)\n",
    "car_color_count(cars)\n",
    "\n"
   ]
  }
 ],
 "metadata": {
  "kernelspec": {
   "display_name": ".venv",
   "language": "python",
   "name": "python3"
  },
  "language_info": {
   "codemirror_mode": {
    "name": "ipython",
    "version": 3
   },
   "file_extension": ".py",
   "mimetype": "text/x-python",
   "name": "python",
   "nbconvert_exporter": "python",
   "pygments_lexer": "ipython3",
   "version": "3.13.7"
  }
 },
 "nbformat": 4,
 "nbformat_minor": 5
}
