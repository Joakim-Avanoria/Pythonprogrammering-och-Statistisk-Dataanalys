{
 "cells": [
  {
   "cell_type": "markdown",
   "id": "35467a41",
   "metadata": {},
   "source": [
    "# Strings"
   ]
  },
  {
   "cell_type": "code",
   "execution_count": 15,
   "id": "207f0357",
   "metadata": {},
   "outputs": [
    {
     "name": "stdout",
     "output_type": "stream",
     "text": [
      "let's goo!\n"
     ]
    }
   ],
   "source": [
    "name = \"Joakim\"\n",
    "name = 'Joakim'\n",
    "\n",
    "text = \"let's goo!\"\n",
    "text = 'let\\'s goo!'\n",
    "\n",
    "print(text)"
   ]
  },
  {
   "cell_type": "code",
   "execution_count": null,
   "id": "62ea2e2e",
   "metadata": {},
   "outputs": [
    {
     "name": "stdout",
     "output_type": "stream",
     "text": [
      "*************************\n"
     ]
    }
   ],
   "source": [
    "first_name = \"Joakim\"\n",
    "last_name = \"Lindh\"\n",
    "age = 38\n",
    "\n",
    "full_name = first_name + ' ' + last_name\n",
    "\n",
    "text = \"Hej jag heter \" + first_name + \" \" + last_name + \" och jag är \" + str(age) + \" år gammal\"\n",
    "text = f\"Hej jag heter {first_name} {last_name} och jag är {str(age)} år gammal\"\n",
    "# print(text)\n",
    "\n",
    "print(\"*\" * 25)"
   ]
  },
  {
   "cell_type": "code",
   "execution_count": 35,
   "id": "36ff5e4f",
   "metadata": {},
   "outputs": [
    {
     "name": "stdout",
     "output_type": "stream",
     "text": [
      "J\n",
      "oak\n",
      "ki\n",
      "Joakim\n"
     ]
    }
   ],
   "source": [
    "# print(len(name))\n",
    "\n",
    "print(name[0])\n",
    "print(name[1:4])\n",
    "print(name[3:-1])\n",
    "print(name)"
   ]
  },
  {
   "cell_type": "code",
   "execution_count": 56,
   "id": "6fd48f4e",
   "metadata": {},
   "outputs": [
    {
     "name": "stdout",
     "output_type": "stream",
     "text": [
      "         HELLO WORLD            \n",
      "         hello world            \n",
      "         Hello World            \n",
      "Hello World\n",
      "hej World\n",
      "['Hello', 'World']\n",
      "['cheddar', ' hushåll', ' port salut', ' präst']\n"
     ]
    }
   ],
   "source": [
    "text = \"         hello world            \"\n",
    "\n",
    "print(text.upper())\n",
    "text = text.title()\n",
    "print(text.lower())\n",
    "print(text.title())\n",
    "\n",
    "text = text.strip()\n",
    "\n",
    "print(text)\n",
    "\n",
    "print(text.replace(\"Hello\", \"hej\"))\n",
    "\n",
    "\n",
    "cheese = \"cheddar, hushåll, port salut, präst\"\n",
    "\n",
    "words = text.split(\" \")\n",
    "print(words)\n",
    "\n",
    "cheeses = cheese.split(\",\")\n",
    "print(cheeses)"
   ]
  },
  {
   "cell_type": "code",
   "execution_count": 59,
   "id": "88354930",
   "metadata": {},
   "outputs": [
    {
     "name": "stdout",
     "output_type": "stream",
     "text": [
      "<class 'str'>\n",
      "Du skrev:  asd\n"
     ]
    }
   ],
   "source": [
    "response = input()\n",
    "\n",
    "print(type(response))\n",
    "print(\"Du skrev: \", response)"
   ]
  }
 ],
 "metadata": {
  "kernelspec": {
   "display_name": ".venv",
   "language": "python",
   "name": "python3"
  },
  "language_info": {
   "codemirror_mode": {
    "name": "ipython",
    "version": 3
   },
   "file_extension": ".py",
   "mimetype": "text/x-python",
   "name": "python",
   "nbconvert_exporter": "python",
   "pygments_lexer": "ipython3",
   "version": "3.13.7"
  }
 },
 "nbformat": 4,
 "nbformat_minor": 5
}
