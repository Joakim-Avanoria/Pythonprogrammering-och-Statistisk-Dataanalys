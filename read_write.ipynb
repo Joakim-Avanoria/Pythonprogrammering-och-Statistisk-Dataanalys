{
 "cells": [
  {
   "cell_type": "markdown",
   "id": "a897b066",
   "metadata": {},
   "source": [
    "# Läsa / Skriva CSV & JSON filer\n",
    "\n",
    "- CSV = Comma Separated Values"
   ]
  },
  {
   "cell_type": "code",
   "execution_count": 1,
   "id": "b4544da3",
   "metadata": {},
   "outputs": [],
   "source": [
    "import csv\n",
    "\n",
    "with open(\"files/cars.csv\", \"w\", newline=\"\", encoding=\"utf-8\") as file:\n",
    "    writer = csv.writer(file)\n",
    "    writer.writerow([\"Reg\", \"Color\"])\n",
    "    writer.writerow([\"ABC123\", \"Red\"])\n",
    "    writer.writerow([\"XYZ789\", \"Blue\"])"
   ]
  },
  {
   "cell_type": "code",
   "execution_count": 4,
   "id": "f5a9bf06",
   "metadata": {},
   "outputs": [
    {
     "name": "stdout",
     "output_type": "stream",
     "text": [
      "['Reg', 'Color']\n",
      "Reg\n",
      "['ABC123', 'Red']\n",
      "ABC123\n",
      "['XYZ789', 'Blue']\n",
      "XYZ789\n"
     ]
    }
   ],
   "source": [
    "with open(\"files/cars.csv\", \"r\", encoding=\"utf-8\") as file:\n",
    "    reader = csv.reader(file)\n",
    "    for row in reader:\n",
    "        print(row)\n",
    "        print(row[0])"
   ]
  },
  {
   "cell_type": "markdown",
   "id": "4e2eca33",
   "metadata": {},
   "source": [
    "## JSON - JavaScript Object Notation"
   ]
  },
  {
   "cell_type": "code",
   "execution_count": 8,
   "id": "877bb5e9",
   "metadata": {},
   "outputs": [],
   "source": [
    "import json\n",
    "\n",
    "data = {\n",
    "    \"name\": \"Joakim\",\n",
    "    \"age\": 38,\n",
    "    \"city\": \"Västerås\",\n",
    "    \"is_married\": True\n",
    "}\n",
    "\n",
    "with open(\"files/person.json\", \"w\", encoding=\"utf-8\") as file:\n",
    "    json.dump(data, file, indent=4, ensure_ascii=False)"
   ]
  },
  {
   "cell_type": "code",
   "execution_count": 11,
   "id": "2306f20e",
   "metadata": {},
   "outputs": [
    {
     "name": "stdout",
     "output_type": "stream",
     "text": [
      "{'name': 'Joakim', 'age': 38, 'city': 'Västerås', 'is_married': True}\n",
      "Joakim\n"
     ]
    }
   ],
   "source": [
    "with open(\"files/person.json\", \"r\", encoding=\"utf-8\") as file:\n",
    "    person = json.load(file)\n",
    "\n",
    "print(person)\n",
    "print(person[\"name\"])"
   ]
  }
 ],
 "metadata": {
  "kernelspec": {
   "display_name": ".venv",
   "language": "python",
   "name": "python3"
  },
  "language_info": {
   "codemirror_mode": {
    "name": "ipython",
    "version": 3
   },
   "file_extension": ".py",
   "mimetype": "text/x-python",
   "name": "python",
   "nbconvert_exporter": "python",
   "pygments_lexer": "ipython3",
   "version": "3.13.7"
  }
 },
 "nbformat": 4,
 "nbformat_minor": 5
}
