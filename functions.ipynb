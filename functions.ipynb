{
 "cells": [
  {
   "cell_type": "markdown",
   "id": "df9cb5b2",
   "metadata": {},
   "source": [
    "# Funktioner"
   ]
  },
  {
   "cell_type": "code",
   "execution_count": 9,
   "id": "41388a3d",
   "metadata": {},
   "outputs": [
    {
     "name": "stdout",
     "output_type": "stream",
     "text": [
      "Hej John Doe, välkommen till kursen!\n",
      "Hej Hans Doe, välkommen till kursen!\n",
      "Hej John Lindh, välkommen till kursen!\n"
     ]
    }
   ],
   "source": [
    "# def greet():\n",
    "#     print(\"Hej och välkommen!\")\n",
    "\n",
    "# greet()\n",
    "\n",
    "# def test(parameter):\n",
    "#     print(parameter)\n",
    "\n",
    "# test(\"argument\")\n",
    "\n",
    "def greet(\n",
    "        first_name = \"John\", \n",
    "        last_name = \"Doe\"):\n",
    "    print(f\"Hej {first_name} {last_name}, välkommen till kursen!\")\n",
    "\n",
    "greet()\n",
    "greet(\"Hans\")\n",
    "greet(last_name = \"Lindh\")\n"
   ]
  },
  {
   "cell_type": "code",
   "execution_count": 20,
   "id": "fa066c9e",
   "metadata": {},
   "outputs": [
    {
     "name": "stdout",
     "output_type": "stream",
     "text": [
      "125.67999999999999\n"
     ]
    }
   ],
   "source": [
    "def area(radius):\n",
    "    return 3.142 * radius * radius\n",
    "\n",
    "def vol(area, length):\n",
    "    print(area * length)\n",
    "\n",
    "radius = int(input(\"Enter the radius: \"))\n",
    "length = int(input(\"How long is your cylinder? \"))\n",
    "\n",
    "# calculated_area = area(radius)\n",
    "\n",
    "# vol(calculated_area, length)\n",
    "vol(area(radius), length)"
   ]
  },
  {
   "cell_type": "code",
   "execution_count": null,
   "id": "71b6dcfb",
   "metadata": {},
   "outputs": [
    {
     "name": "stdout",
     "output_type": "stream",
     "text": [
      "inne i funktionen: 10\n",
      "utanför funktionen: 10\n"
     ]
    }
   ],
   "source": [
    "x = 5  # global variabel\n",
    "\n",
    "def my_function():\n",
    "    # global x\n",
    "    x = 10  # lokal variabel\n",
    "    print(\"inne i funktionen:\", x)\n",
    "\n",
    "my_function()\n",
    "print(\"utanför funktionen:\", x)"
   ]
  }
 ],
 "metadata": {
  "kernelspec": {
   "display_name": ".venv",
   "language": "python",
   "name": "python3"
  },
  "language_info": {
   "codemirror_mode": {
    "name": "ipython",
    "version": 3
   },
   "file_extension": ".py",
   "mimetype": "text/x-python",
   "name": "python",
   "nbconvert_exporter": "python",
   "pygments_lexer": "ipython3",
   "version": "3.13.7"
  }
 },
 "nbformat": 4,
 "nbformat_minor": 5
}
