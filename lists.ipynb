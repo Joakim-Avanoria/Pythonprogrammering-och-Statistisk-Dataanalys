{
 "cells": [
  {
   "cell_type": "markdown",
   "id": "83ba1030",
   "metadata": {},
   "source": [
    "# Lists"
   ]
  },
  {
   "cell_type": "code",
   "execution_count": 7,
   "id": "3379bb59",
   "metadata": {},
   "outputs": [
    {
     "name": "stdout",
     "output_type": "stream",
     "text": [
      "['äpple', 'banan', 'apelsin']\n",
      "äpple\n",
      "banan\n",
      "apelsin\n",
      "['äpple', 'banan']\n",
      "['päron', 'banan', 'apelsin']\n"
     ]
    }
   ],
   "source": [
    "fruits = [\"äpple\", \"banan\", 'apelsin']\n",
    "print(fruits)\n",
    "\n",
    "print(fruits[0])\n",
    "print(fruits[1])\n",
    "print(fruits[-1])\n",
    "print(fruits[0:2])\n",
    "\n",
    "fruits[0] = \"päron\"\n",
    "\n",
    "print(fruits)"
   ]
  },
  {
   "cell_type": "code",
   "execution_count": 14,
   "id": "7cabb429",
   "metadata": {},
   "outputs": [
    {
     "name": "stdout",
     "output_type": "stream",
     "text": [
      "['päron', 'banan', 'apelsin', 'kiwi']\n",
      "['päron', 'apelsin', 'kiwi']\n"
     ]
    }
   ],
   "source": [
    "# fruits.append(\"kiwi\")\n",
    "print(fruits)\n",
    "\n",
    "# fruits.pop()\n",
    "# fruits.remove(\"kiwi\")\n",
    "del fruits[1]\n",
    "print(fruits)"
   ]
  },
  {
   "cell_type": "code",
   "execution_count": 2,
   "id": "ba0e0da4",
   "metadata": {},
   "outputs": [
    {
     "name": "stdout",
     "output_type": "stream",
     "text": [
      "7\n",
      "3\n",
      "9\n",
      "1\n",
      "[1, 1, 1, 3, 4, 5, 9]\n",
      "[3, 1, 4, 1, 5, 9, 1]\n",
      "[1, 1, 1, 3, 4, 5, 9]\n"
     ]
    }
   ],
   "source": [
    "numbers = [3, 1, 4, 1, 5, 9, 1]\n",
    "\n",
    "print(len(numbers))               # Antal element\n",
    "print(numbers.count(1))           # Hur många ettor finns?\n",
    "print(max(numbers))               # Största värdet\n",
    "print(min(numbers))               # Minsta värdet\n",
    "print(sorted(numbers))            # sorterad lista\n",
    "\n",
    "print(numbers)\n",
    "\n",
    "numbers.sort()\n",
    "print(numbers)"
   ]
  },
  {
   "cell_type": "code",
   "execution_count": 11,
   "id": "6d971fa9",
   "metadata": {},
   "outputs": [
    {
     "name": "stdout",
     "output_type": "stream",
     "text": [
      "40\n",
      "35.0\n",
      "40.0\n",
      "35.0\n"
     ]
    }
   ],
   "source": [
    "import statistics\n",
    "import numpy as np\n",
    "\n",
    "numbers = [10, 20, 30, 40, 50, 90]\n",
    "\n",
    "print(statistics.mean(numbers))\n",
    "print(statistics.median(numbers))\n",
    "\n",
    "print(np.mean(numbers))\n",
    "print(np.median(numbers))"
   ]
  },
  {
   "cell_type": "code",
   "execution_count": 15,
   "id": "ad6341c4",
   "metadata": {},
   "outputs": [
    {
     "name": "stdout",
     "output_type": "stream",
     "text": [
      "[['Joakim', 'Hans', 'Jeanette', 'Emil'], [38, 40, 37, 35], [100, 200, 50, 65]]\n",
      "37\n"
     ]
    }
   ],
   "source": [
    "extra_numbers = [70, 80, 100]\n",
    "\n",
    "all_numbers = numbers + extra_numbers\n",
    "\n",
    "# print(all_numbers)\n",
    "\n",
    "names = [\"Joakim\", \"Hans\", \"Jeanette\", \"Emil\"]\n",
    "ages = [38, 40, 37, 35]\n",
    "\n",
    "matrix = [\n",
    "  names,\n",
    "  ages,\n",
    "  [100, 200, 50, 65]\n",
    "]\n",
    "\n",
    "print(matrix)\n",
    "\n",
    "print(matrix[1][2])"
   ]
  }
 ],
 "metadata": {
  "kernelspec": {
   "display_name": ".venv",
   "language": "python",
   "name": "python3"
  },
  "language_info": {
   "codemirror_mode": {
    "name": "ipython",
    "version": 3
   },
   "file_extension": ".py",
   "mimetype": "text/x-python",
   "name": "python",
   "nbconvert_exporter": "python",
   "pygments_lexer": "ipython3",
   "version": "3.13.7"
  }
 },
 "nbformat": 4,
 "nbformat_minor": 5
}
