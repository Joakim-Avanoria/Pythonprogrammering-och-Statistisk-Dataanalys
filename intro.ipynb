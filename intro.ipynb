{
 "cells": [
  {
   "cell_type": "markdown",
   "id": "e57c7d8b",
   "metadata": {},
   "source": [
    "# Intro\n",
    "Det här är hur vi kommer igång"
   ]
  },
  {
   "cell_type": "code",
   "execution_count": 2,
   "id": "ac82f52d",
   "metadata": {},
   "outputs": [
    {
     "name": "stdout",
     "output_type": "stream",
     "text": [
      "Hello world!\n"
     ]
    }
   ],
   "source": [
    "print(\"Hello world!\")"
   ]
  }
 ],
 "metadata": {
  "kernelspec": {
   "display_name": ".venv",
   "language": "python",
   "name": "python3"
  },
  "language_info": {
   "codemirror_mode": {
    "name": "ipython",
    "version": 3
   },
   "file_extension": ".py",
   "mimetype": "text/x-python",
   "name": "python",
   "nbconvert_exporter": "python",
   "pygments_lexer": "ipython3",
   "version": "3.13.7"
  }
 },
 "nbformat": 4,
 "nbformat_minor": 5
}
