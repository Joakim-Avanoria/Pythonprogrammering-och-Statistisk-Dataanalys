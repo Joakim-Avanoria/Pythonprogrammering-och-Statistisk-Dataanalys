{
 "cells": [
  {
   "cell_type": "markdown",
   "id": "804ca768",
   "metadata": {},
   "source": [
    "# Numbers"
   ]
  },
  {
   "cell_type": "code",
   "execution_count": 4,
   "id": "223505bb",
   "metadata": {},
   "outputs": [
    {
     "name": "stdout",
     "output_type": "stream",
     "text": [
      "x =  <class 'int'>\n",
      "y =  <class 'float'>\n"
     ]
    }
   ],
   "source": [
    "x = 10      # int = heltal\n",
    "y = 3.14    # float = decimaltal\n",
    "\n",
    "print(\"x = \",type(x))\n",
    "print(\"y = \",type(y))"
   ]
  },
  {
   "cell_type": "code",
   "execution_count": 15,
   "id": "ad62cb23",
   "metadata": {},
   "outputs": [
    {
     "name": "stdout",
     "output_type": "stream",
     "text": [
      "10\n",
      "4\n",
      "21\n",
      "2.3333333333333335\n",
      "2\n",
      "1\n",
      "343\n"
     ]
    }
   ],
   "source": [
    "print(7 + 3)   # addition\n",
    "print(7 - 3)   # subtraktion\n",
    "print(7 * 3)   # multiplikation\n",
    "print(7 / 3)   # division\n",
    "print(7 // 3)  # heltalsdivision\n",
    "print(7 % 3)   # modulus (remainder)\n",
    "print(7 ** 3)  # upphöjt till"
   ]
  },
  {
   "cell_type": "code",
   "execution_count": 43,
   "id": "a53d3a41",
   "metadata": {},
   "outputs": [
    {
     "name": "stdout",
     "output_type": "stream",
     "text": [
      "15\n"
     ]
    }
   ],
   "source": [
    "number = 10\n",
    "\n",
    "number = number + 1\n",
    "number += 1\n",
    "\n",
    "number -= 1\n",
    "number -= 1\n",
    "\n",
    "number //= 2\n",
    "\n",
    "number *= 3\n",
    "\n",
    "print(number)"
   ]
  },
  {
   "cell_type": "code",
   "execution_count": 19,
   "id": "f1ada909",
   "metadata": {},
   "outputs": [
    {
     "name": "stdout",
     "output_type": "stream",
     "text": [
      "10.0\n",
      "3\n"
     ]
    }
   ],
   "source": [
    "x = 10\n",
    "y = 3.9\n",
    "\n",
    "print(float(x))\n",
    "print(int(y))\n"
   ]
  },
  {
   "cell_type": "code",
   "execution_count": null,
   "id": "d78cea39",
   "metadata": {},
   "outputs": [
    {
     "name": "stdout",
     "output_type": "stream",
     "text": [
      "7\n",
      "3\n",
      "3.64\n",
      "8\n"
     ]
    }
   ],
   "source": [
    "num = -7\n",
    "\n",
    "print(abs(num))           # absolutvärde\n",
    "print(round(3.14159))     # avrunda\n",
    "print(round(3.64159, 2))  # avrunda till 2 decimaler\n",
    "print(pow(2, 3))          # 2 upphöjt till 3\n"
   ]
  },
  {
   "cell_type": "code",
   "execution_count": 31,
   "id": "d3b3c5f2",
   "metadata": {},
   "outputs": [
    {
     "name": "stdout",
     "output_type": "stream",
     "text": [
      "4.0\n",
      "3.141592653589793\n",
      "3\n",
      "4\n",
      "\n"
     ]
    },
    {
     "data": {
      "text/plain": [
       "4.0"
      ]
     },
     "execution_count": 31,
     "metadata": {},
     "output_type": "execute_result"
    }
   ],
   "source": [
    "import math\n",
    "\n",
    "print(math.sqrt(16))    # kvadratroten av 16\n",
    "print(math.pi)\n",
    "print(math.floor(3.9))  # avrunda neråt\n",
    "print(math.ceil(3.1))   # avrunda uppåt\n",
    "\n",
    "print()\n",
    "math.sqrt(16)"
   ]
  }
 ],
 "metadata": {
  "kernelspec": {
   "display_name": ".venv",
   "language": "python",
   "name": "python3"
  },
  "language_info": {
   "codemirror_mode": {
    "name": "ipython",
    "version": 3
   },
   "file_extension": ".py",
   "mimetype": "text/x-python",
   "name": "python",
   "nbconvert_exporter": "python",
   "pygments_lexer": "ipython3",
   "version": "3.13.7"
  }
 },
 "nbformat": 4,
 "nbformat_minor": 5
}
