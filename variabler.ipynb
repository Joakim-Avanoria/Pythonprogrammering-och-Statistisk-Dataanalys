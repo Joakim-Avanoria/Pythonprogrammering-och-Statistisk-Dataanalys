{
 "cells": [
  {
   "cell_type": "markdown",
   "id": "ba60fc46",
   "metadata": {},
   "source": [
    "# Variabler & Datatyper\n",
    "\n",
    "Variabel = någonting som vi lagrar information i"
   ]
  },
  {
   "cell_type": "code",
   "execution_count": 2,
   "id": "ac111ba9",
   "metadata": {},
   "outputs": [
    {
     "name": "stdout",
     "output_type": "stream",
     "text": [
      "15\n"
     ]
    }
   ],
   "source": [
    "x = 5\n",
    "y = 10\n",
    "\n",
    "z = x + y\n",
    "print(z)"
   ]
  },
  {
   "cell_type": "markdown",
   "id": "5a756407",
   "metadata": {},
   "source": [
    "variabelnamn: Ska vara på engelska\n",
    "\n",
    "- camelCase   =   JavaScript, Java, C, C++\n",
    "- Pascal      =   C#, Pascal\n",
    "- snake_case  =   Python\n",
    "\n",
    "- SCREAMING_SNAKE_CASE  =   Används när värdet är konstant och aldrig kommer ändras."
   ]
  },
  {
   "cell_type": "code",
   "execution_count": 11,
   "id": "44fd0275",
   "metadata": {},
   "outputs": [
    {
     "name": "stdout",
     "output_type": "stream",
     "text": [
      "<class 'str'>\n",
      "<class 'int'>\n"
     ]
    }
   ],
   "source": [
    "# let firstName = \"Joakim\"  -  JavaScript\n",
    "# string Name = \"Joakim\" - C#\n",
    "# int Age = 38\n",
    "\n",
    "first_name = \"Joakim\"\n",
    "age = 38\n",
    "\n",
    "print(type(first_name))\n",
    "print(type(age))"
   ]
  },
  {
   "cell_type": "markdown",
   "id": "4ac5fd2c",
   "metadata": {},
   "source": [
    "## Vanligaste datatyperna i Python\n",
    "\n",
    "- int - heltal\n",
    "- float - decimaltal\n",
    "- str - textsträng\n",
    "- bool - True/False\n",
    "- NoneType - inget värde (None)\n",
    "- list - en lista med värden\n",
    "- dict - nyckel/värde-par"
   ]
  },
  {
   "cell_type": "code",
   "execution_count": 14,
   "id": "e4288f6b",
   "metadata": {},
   "outputs": [],
   "source": [
    "age = 25 # int\n",
    "PI = 3.14 # float\n",
    "name = \"Joakim\" # string\n",
    "is_student = False # bool\n",
    "numbers = [1, 2, 3] # list\n",
    "person = {\"name\": \"Hans\", \"age\": 40} # dict\n",
    "nothing = None # None\n",
    "\n",
    "\n",
    "\n",
    "# En kommentar\n"
   ]
  },
  {
   "cell_type": "code",
   "execution_count": 15,
   "id": "860b1ffa",
   "metadata": {},
   "outputs": [
    {
     "data": {
      "text/plain": [
       "25"
      ]
     },
     "execution_count": 15,
     "metadata": {},
     "output_type": "execute_result"
    }
   ],
   "source": [
    "age"
   ]
  },
  {
   "cell_type": "code",
   "execution_count": 24,
   "id": "893507e4",
   "metadata": {},
   "outputs": [
    {
     "name": "stdout",
     "output_type": "stream",
     "text": [
      "1\n",
      "2\n",
      "123\n",
      "<class 'int'>\n"
     ]
    }
   ],
   "source": [
    "count = 1\n",
    "print(count)\n",
    "count = count + 1\n",
    "print(count)\n",
    "\n",
    "name = 123\n",
    "print(name)\n",
    "\n",
    "print(type(name))"
   ]
  }
 ],
 "metadata": {
  "kernelspec": {
   "display_name": ".venv",
   "language": "python",
   "name": "python3"
  },
  "language_info": {
   "codemirror_mode": {
    "name": "ipython",
    "version": 3
   },
   "file_extension": ".py",
   "mimetype": "text/x-python",
   "name": "python",
   "nbconvert_exporter": "python",
   "pygments_lexer": "ipython3",
   "version": "3.13.7"
  }
 },
 "nbformat": 4,
 "nbformat_minor": 5
}
