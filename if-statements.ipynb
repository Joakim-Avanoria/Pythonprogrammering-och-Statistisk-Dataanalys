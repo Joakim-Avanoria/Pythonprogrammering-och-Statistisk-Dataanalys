{
 "cells": [
  {
   "cell_type": "markdown",
   "id": "41feb233",
   "metadata": {},
   "source": [
    "# IF-satser"
   ]
  },
  {
   "cell_type": "code",
   "execution_count": 2,
   "id": "63eb5b09",
   "metadata": {},
   "outputs": [
    {
     "name": "stdout",
     "output_type": "stream",
     "text": [
      "True\n",
      "<class 'bool'>\n"
     ]
    }
   ],
   "source": [
    "is_student = True\n",
    "has_ticket = False\n",
    "\n",
    "print(is_student)\n",
    "print(type(has_ticket))"
   ]
  },
  {
   "cell_type": "code",
   "execution_count": 11,
   "id": "52ff0a74",
   "metadata": {},
   "outputs": [
    {
     "name": "stdout",
     "output_type": "stream",
     "text": [
      "False\n",
      "True\n",
      "False\n",
      "True\n",
      "False\n",
      "True\n",
      "False\n"
     ]
    }
   ],
   "source": [
    "print(bool(0))\n",
    "print(bool(-1))\n",
    "print(bool(\"\"))\n",
    "print(bool(\"Hej\"))\n",
    "print(bool([]))\n",
    "print(bool([1, 2]))\n",
    "print(bool(None))"
   ]
  },
  {
   "cell_type": "markdown",
   "id": "04d426bb",
   "metadata": {},
   "source": [
    "I python räknas vissa värden automatiskt som falska t.ex:\n",
    "- 0\n",
    "- En tom string \"\"\n",
    "- En tom lista []\n",
    "- None\n",
    "\n",
    "Allt annat är sant (truthy)"
   ]
  },
  {
   "cell_type": "markdown",
   "id": "22acc4ef",
   "metadata": {},
   "source": [
    "## Jämförelseoperationer\n",
    "\n",
    "- ==    Lika med\n",
    "- !=    inte lika med\n",
    "- \">\"   större än\n",
    "- \"<\"   mindre än\n",
    "- \">=\"  större eller lika\n",
    "- \"<=\"  mindre eller lika"
   ]
  },
  {
   "cell_type": "code",
   "execution_count": 31,
   "id": "91bab5d7",
   "metadata": {},
   "outputs": [
    {
     "name": "stdout",
     "output_type": "stream",
     "text": [
      "Du är jättegammal\n"
     ]
    }
   ],
   "source": [
    "age = 66\n",
    "\n",
    "if age < 13:\n",
    "    print(\"Du är ung\")\n",
    "elif age < 18:\n",
    "    print(\"Du är en tonåring\")\n",
    "elif age <= 65:\n",
    "    print(\"Du är vuxen\")\n",
    "else:\n",
    "    print(\"Du är jättegammal\")\n",
    "\n",
    "\n",
    "# if age < 18:\n",
    "#     print(\"Du är en tonåring\")\n",
    "\n",
    "# print(\"klar\")\n",
    "\n"
   ]
  },
  {
   "cell_type": "code",
   "execution_count": 16,
   "id": "533b6d3f",
   "metadata": {},
   "outputs": [
    {
     "name": "stdout",
     "output_type": "stream",
     "text": [
      "True\n",
      "False\n",
      "True\n"
     ]
    }
   ],
   "source": [
    "print(age == 12)\n",
    "print(age != 12)\n",
    "print(age < 13)\n"
   ]
  },
  {
   "cell_type": "code",
   "execution_count": 37,
   "id": "4dcd3f80",
   "metadata": {},
   "outputs": [
    {
     "name": "stdout",
     "output_type": "stream",
     "text": [
      "Du är vuxen\n"
     ]
    }
   ],
   "source": [
    "age = int(input())\n",
    "\n",
    "if age < 13:\n",
    "    print(\"Du är ung\")\n",
    "elif age < 18:\n",
    "    print(\"Du är en tonåring\")\n",
    "elif age <= 65:\n",
    "    print(\"Du är vuxen\")\n",
    "else:\n",
    "    print(\"Du är jättegammal\")"
   ]
  },
  {
   "cell_type": "code",
   "execution_count": null,
   "id": "cca2ea6a",
   "metadata": {},
   "outputs": [
    {
     "name": "stdout",
     "output_type": "stream",
     "text": [
      "Oops, i don't understand what you mean.\n"
     ]
    }
   ],
   "source": [
    "ready = input(\"Are you ready to proceed? (y/n)\")\n",
    "\n",
    "if ready.lower() == \"y\":\n",
    "    print(\"Great! here are the rest of the information.\")\n",
    "elif ready.lower() == \"n\":\n",
    "    print(\"Ok, please read the info again.\")\n",
    "else:\n",
    "    print(\"Oops, I don't understand what you mean.\")"
   ]
  },
  {
   "cell_type": "code",
   "execution_count": null,
   "id": "7c6e4d44",
   "metadata": {},
   "outputs": [
    {
     "name": "stdout",
     "output_type": "stream",
     "text": [
      "Du är student\n"
     ]
    }
   ],
   "source": [
    "is_student = True\n",
    "\n",
    "if is_student == True:\n",
    "    print(\"Du är student\")"
   ]
  }
 ],
 "metadata": {
  "kernelspec": {
   "display_name": ".venv",
   "language": "python",
   "name": "python3"
  },
  "language_info": {
   "codemirror_mode": {
    "name": "ipython",
    "version": 3
   },
   "file_extension": ".py",
   "mimetype": "text/x-python",
   "name": "python",
   "nbconvert_exporter": "python",
   "pygments_lexer": "ipython3",
   "version": "3.13.7"
  }
 },
 "nbformat": 4,
 "nbformat_minor": 5
}
