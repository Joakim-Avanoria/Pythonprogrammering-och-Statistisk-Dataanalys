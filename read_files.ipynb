{
 "cells": [
  {
   "cell_type": "markdown",
   "id": "692f31e3",
   "metadata": {},
   "source": [
    "# Läsa filer"
   ]
  },
  {
   "cell_type": "code",
   "execution_count": null,
   "id": "1bb0598e",
   "metadata": {},
   "outputs": [],
   "source": [
    "file = open(\"files/example.txt\", \"r\")  # r = read\n",
    "content = file.read()      # läser hela filen som en string\n",
    "file.close()            # VIKTIGT!: Stäng filen!\n",
    "\n",
    "print(content)"
   ]
  },
  {
   "cell_type": "code",
   "execution_count": 19,
   "id": "290f4a3c",
   "metadata": {},
   "outputs": [],
   "source": [
    "with open(\"files/example.txt\") as file:\n",
    "    file_content = file.read()\n",
    "    # file_content2 = file.read()\n",
    "\n",
    "# print(file_content)\n",
    "# print(file_content2)"
   ]
  },
  {
   "cell_type": "code",
   "execution_count": 18,
   "id": "9d2f0a70",
   "metadata": {},
   "outputs": [
    {
     "name": "stdout",
     "output_type": "stream",
     "text": [
      "Rad 1 Lorem ipsum dolor sit amet consectetur adipisicing elit. Sunt dolorum non natus vero blanditiis neque fugit explicabo sint amet dicta. Alias harum facilis sequi porro reiciendis modi aperiam, obcaecati similique? Eum qui eligendi quae vel veniam debitis soluta ad tempora?\n",
      "\n",
      "Rad 2 Lorem ipsum dolor sit amet consectetur adipisicing elit. Sunt dolorum non natus vero blanditiis neque fugit explicabo sint amet dicta. Alias harum facilis sequi porro reiciendis modi aperiam, obcaecati similique? Eum qui eligendi quae vel veniam debitis soluta ad tempora?\n",
      "\n",
      "Rad 1 Lorem ipsum dolor sit amet consectetur adipisicing elit. Sunt dolorum non natus vero blanditiis neque fugit explicabo sint amet dicta. Alias harum facilis sequi porro reiciendis modi aperiam, obcaecati similique? Eum qui eligendi quae vel veniam debitis soluta ad tempora?\n",
      "\n"
     ]
    }
   ],
   "source": [
    "with open(\"files/example.txt\") as file:\n",
    "    first_line = file.readline()\n",
    "    second_line = file.readline()\n",
    "\n",
    "    file.seek(0)\n",
    "\n",
    "    first_line_again = file.readline()\n",
    "\n",
    "print(first_line)\n",
    "print(second_line)\n",
    "print(first_line_again)"
   ]
  },
  {
   "cell_type": "code",
   "execution_count": 22,
   "id": "482cc5cb",
   "metadata": {},
   "outputs": [
    {
     "name": "stdout",
     "output_type": "stream",
     "text": [
      "['Rad 1 Lorem ipsum dolor sit amet consectetur adipisicing elit. Sunt dolorum non natus vero blanditiis neque fugit explicabo sint amet dicta. Alias harum facilis sequi porro reiciendis modi aperiam, obcaecati similique? Eum qui eligendi quae vel veniam debitis soluta ad tempora?\\n', 'Rad 2 Lorem ipsum dolor sit amet consectetur adipisicing elit. Sunt dolorum non natus vero blanditiis neque fugit explicabo sint amet dicta. Alias harum facilis sequi porro reiciendis modi aperiam, obcaecati similique? Eum qui eligendi quae vel veniam debitis soluta ad tempora?\\n', 'Rad 3 Lorem ipsum dolor sit amet consectetur adipisicing elit. Sunt dolorum non natus vero blanditiis neque fugit explicabo sint amet dicta. Alias harum facilis sequi porro reiciendis modi aperiam, obcaecati similique? Eum qui eligendi quae vel veniam debitis soluta ad tempora?\\n', 'Lorem ipsum dolor sit amet consectetur adipisicing elit. Sunt dolorum non natus vero blanditiis neque fugit explicabo sint amet dicta. Alias harum facilis sequi porro reiciendis modi aperiam, obcaecati similique? Eum qui eligendi quae vel veniam debitis soluta ad tempora?\\n', 'Lorem ipsum dolor sit amet consectetur adipisicing elit. Sunt dolorum non natus vero blanditiis neque fugit explicabo sint amet dicta. Alias harum facilis sequi porro reiciendis modi aperiam, obcaecati similique? Eum qui eligendi quae vel veniam debitis soluta ad tempora?\\n', 'Lorem ipsum dolor sit amet consectetur adipisicing elit. Sunt dolorum non natus vero blanditiis neque fugit explicabo sint amet dicta. Alias harum facilis sequi porro reiciendis modi aperiam, obcaecati similique? Eum qui eligendi quae vel veniam debitis soluta ad tempora?\\n', 'Lorem ipsum dolor sit amet consectetur adipisicing elit. Sunt dolorum non natus vero blanditiis neque fugit explicabo sint amet dicta. Alias harum facilis sequi porro reiciendis modi aperiam, obcaecati similique? Eum qui eligendi quae vel veniam debitis soluta ad tempora?\\n', 'Lorem ipsum dolor sit amet consectetur adipisicing elit. Sunt dolorum non natus vero blanditiis neque fugit explicabo sint amet dicta. Alias harum facilis sequi porro reiciendis modi aperiam, obcaecati similique? Eum qui eligendi quae vel veniam debitis soluta ad tempora?\\n', 'Lorem ipsum dolor sit amet consectetur adipisicing elit. Sunt dolorum non natus vero blanditiis neque fugit explicabo sint amet dicta. Alias harum facilis sequi porro reiciendis modi aperiam, obcaecati similique? Eum qui eligendi quae vel veniam debitis soluta ad tempora?\\n', 'Lorem ipsum dolor sit amet consectetur adipisicing elit. Sunt dolorum non natus vero blanditiis neque fugit explicabo sint amet dicta. Alias harum facilis sequi porro reiciendis modi aperiam, obcaecati similique? Eum qui eligendi quae vel veniam debitis soluta ad tempora?\\n', 'Lorem ipsum dolor sit amet consectetur adipisicing elit. Sunt dolorum non natus vero blanditiis neque fugit explicabo sint amet dicta. Alias harum facilis sequi porro reiciendis modi aperiam, obcaecati similique? Eum qui eligendi quae vel veniam debitis soluta ad tempora?']\n"
     ]
    }
   ],
   "source": [
    "with open(\"files/example.txt\") as file:\n",
    "    lines = file.readlines()\n",
    "\n",
    "print(lines)\n",
    "# for line in lines:\n",
    "#     print(line)"
   ]
  },
  {
   "cell_type": "code",
   "execution_count": 35,
   "id": "8a5a6279",
   "metadata": {},
   "outputs": [
    {
     "name": "stdout",
     "output_type": "stream",
     "text": [
      "Rad 1 öäå Lorem ipsum dolor sit amet consectetur adipisicing elit. Sunt dolorum non natus vero blanditiis neque fugit explicabo sint amet dicta. Alias harum facilis sequi porro reiciendis modi aperiam, obcaecati similique? Eum qui eligendi quae vel veniam debitis soluta ad tempora?\n",
      "Rad 2 Lorem ipsum dolor sit amet consectetur adipisicing elit. Sunt dolorum non natus vero blanditiis neque fugit explicabo sint amet dicta. Alias harum facilis sequi porro reiciendis modi aperiam, obcaecati similique? Eum qui eligendi quae vel veniam debitis soluta ad tempora?\n",
      "Rad 3 Lorem ipsum dolor sit amet consectetur adipisicing elit. Sunt dolorum non natus vero blanditiis neque fugit explicabo sint amet dicta. Alias harum facilis sequi porro reiciendis modi aperiam, obcaecati similique? Eum qui eligendi quae vel veniam debitis soluta ad tempora?\n",
      "Lorem ipsum dolor sit amet consectetur adipisicing elit. Sunt dolorum non natus vero blanditiis neque fugit explicabo sint amet dicta. Alias harum facilis sequi porro reiciendis modi aperiam, obcaecati similique? Eum qui eligendi quae vel veniam debitis soluta ad tempora?\n",
      "Lorem ipsum dolor sit amet consectetur adipisicing elit. Sunt dolorum non natus vero blanditiis neque fugit explicabo sint amet dicta. Alias harum facilis sequi porro reiciendis modi aperiam, obcaecati similique? Eum qui eligendi quae vel veniam debitis soluta ad tempora?\n",
      "Lorem ipsum dolor sit amet consectetur adipisicing elit. Sunt dolorum non natus vero blanditiis neque fugit explicabo sint amet dicta. Alias harum facilis sequi porro reiciendis modi aperiam, obcaecati similique? Eum qui eligendi quae vel veniam debitis soluta ad tempora?\n",
      "Lorem ipsum dolor sit amet consectetur adipisicing elit. Sunt dolorum non natus vero blanditiis neque fugit explicabo sint amet dicta. Alias harum facilis sequi porro reiciendis modi aperiam, obcaecati similique? Eum qui eligendi quae vel veniam debitis soluta ad tempora?\n",
      "Lorem ipsum dolor sit amet consectetur adipisicing elit. Sunt dolorum non natus vero blanditiis neque fugit explicabo sint amet dicta. Alias harum facilis sequi porro reiciendis modi aperiam, obcaecati similique? Eum qui eligendi quae vel veniam debitis soluta ad tempora?\n",
      "Lorem ipsum dolor sit amet consectetur adipisicing elit. Sunt dolorum non natus vero blanditiis neque fugit explicabo sint amet dicta. Alias harum facilis sequi porro reiciendis modi aperiam, obcaecati similique? Eum qui eligendi quae vel veniam debitis soluta ad tempora?\n",
      "Lorem ipsum dolor sit amet consectetur adipisicing elit. Sunt dolorum non natus vero blanditiis neque fugit explicabo sint amet dicta. Alias harum facilis sequi porro reiciendis modi aperiam, obcaecati similique? Eum qui eligendi quae vel veniam debitis soluta ad tempora?\n",
      "Lorem ipsum dolor sit amet consectetur adipisicing elit. Sunt dolorum non natus vero blanditiis neque fugit explicabo sint amet dicta. Alias harum facilis sequi porro reiciendis modi aperiam, obcaecati similique? Eum qui eligendi quae vel veniam debitis soluta ad tempora?"
     ]
    }
   ],
   "source": [
    "with open(\"files/example.txt\", \"r\", encoding=\"utf-8\") as file:\n",
    "    for line in file:\n",
    "        # print(line.strip())\n",
    "        print(line, end=\"\")"
   ]
  },
  {
   "cell_type": "code",
   "execution_count": 41,
   "id": "2230eb5b",
   "metadata": {},
   "outputs": [
    {
     "name": "stdout",
     "output_type": "stream",
     "text": [
      "Filen hittades inte. Kontrollera filnamn och sökväg\n"
     ]
    }
   ],
   "source": [
    "try:\n",
    "    with open(\"file/missing.txt\", \"r\", encoding=\"utf-8\") as f:\n",
    "        data = f.read()\n",
    "\n",
    "    print(data)\n",
    "except FileNotFoundError:\n",
    "    print(\"Filen hittades inte. Kontrollera filnamn och sökväg\")"
   ]
  },
  {
   "cell_type": "code",
   "execution_count": 42,
   "id": "6e390e07",
   "metadata": {},
   "outputs": [
    {
     "name": "stdout",
     "output_type": "stream",
     "text": [
      "1: Rad 1 öäå Lorem ipsum dolor sit amet consectetur adipisicing elit. Sunt dolorum non natus vero blanditiis neque fugit explicabo sint amet dicta. Alias harum facilis sequi porro reiciendis modi aperiam, obcaecati similique? Eum qui eligendi quae vel veniam debitis soluta ad tempora?\n",
      "2: Rad 2 Lorem ipsum dolor sit amet consectetur adipisicing elit. Sunt dolorum non natus vero blanditiis neque fugit explicabo sint amet dicta. Alias harum facilis sequi porro reiciendis modi aperiam, obcaecati similique? Eum qui eligendi quae vel veniam debitis soluta ad tempora?\n",
      "3: Rad 3 Lorem ipsum dolor sit amet consectetur adipisicing elit. Sunt dolorum non natus vero blanditiis neque fugit explicabo sint amet dicta. Alias harum facilis sequi porro reiciendis modi aperiam, obcaecati similique? Eum qui eligendi quae vel veniam debitis soluta ad tempora?\n",
      "4: Lorem ipsum dolor sit amet consectetur adipisicing elit. Sunt dolorum non natus vero blanditiis neque fugit explicabo sint amet dicta. Alias harum facilis sequi porro reiciendis modi aperiam, obcaecati similique? Eum qui eligendi quae vel veniam debitis soluta ad tempora?\n",
      "5: Lorem ipsum dolor sit amet consectetur adipisicing elit. Sunt dolorum non natus vero blanditiis neque fugit explicabo sint amet dicta. Alias harum facilis sequi porro reiciendis modi aperiam, obcaecati similique? Eum qui eligendi quae vel veniam debitis soluta ad tempora?\n",
      "6: Lorem ipsum dolor sit amet consectetur adipisicing elit. Sunt dolorum non natus vero blanditiis neque fugit explicabo sint amet dicta. Alias harum facilis sequi porro reiciendis modi aperiam, obcaecati similique? Eum qui eligendi quae vel veniam debitis soluta ad tempora?\n",
      "7: Lorem ipsum dolor sit amet consectetur adipisicing elit. Sunt dolorum non natus vero blanditiis neque fugit explicabo sint amet dicta. Alias harum facilis sequi porro reiciendis modi aperiam, obcaecati similique? Eum qui eligendi quae vel veniam debitis soluta ad tempora?\n",
      "8: Lorem ipsum dolor sit amet consectetur adipisicing elit. Sunt dolorum non natus vero blanditiis neque fugit explicabo sint amet dicta. Alias harum facilis sequi porro reiciendis modi aperiam, obcaecati similique? Eum qui eligendi quae vel veniam debitis soluta ad tempora?\n",
      "9: Lorem ipsum dolor sit amet consectetur adipisicing elit. Sunt dolorum non natus vero blanditiis neque fugit explicabo sint amet dicta. Alias harum facilis sequi porro reiciendis modi aperiam, obcaecati similique? Eum qui eligendi quae vel veniam debitis soluta ad tempora?\n",
      "10: Lorem ipsum dolor sit amet consectetur adipisicing elit. Sunt dolorum non natus vero blanditiis neque fugit explicabo sint amet dicta. Alias harum facilis sequi porro reiciendis modi aperiam, obcaecati similique? Eum qui eligendi quae vel veniam debitis soluta ad tempora?\n",
      "11: Lorem ipsum dolor sit amet consectetur adipisicing elit. Sunt dolorum non natus vero blanditiis neque fugit explicabo sint amet dicta. Alias harum facilis sequi porro reiciendis modi aperiam, obcaecati similique? Eum qui eligendi quae vel veniam debitis soluta ad tempora?\n"
     ]
    }
   ],
   "source": [
    "with open(\"files/example.txt\", \"r\", encoding=\"utf-8\") as file:\n",
    "    for i, line in enumerate(file, start=1):\n",
    "        print(f\"{i}: {line.strip()}\")"
   ]
  },
  {
   "cell_type": "code",
   "execution_count": null,
   "id": "fe5dbe10",
   "metadata": {},
   "outputs": [
    {
     "name": "stdout",
     "output_type": "stream",
     "text": [
      "Medelvärde: 49.15\n"
     ]
    }
   ],
   "source": [
    "values = []\n",
    "with open(\"files/numbers.txt\", \"r\", encoding=\"utf-8\") as numbers_file:\n",
    "    for line in numbers_file:\n",
    "        line = line.strip()\n",
    "        if line:                    # hoppa över tomma rader\n",
    "            values.append(float(line))\n",
    "\n",
    "if values:\n",
    "    avg = sum(values) / len(values)\n",
    "    print(\"Medelvärde:\", avg)\n",
    "else:\n",
    "    print(\"Inga tal i filen\")\n",
    "    "
   ]
  }
 ],
 "metadata": {
  "kernelspec": {
   "display_name": ".venv",
   "language": "python",
   "name": "python3"
  },
  "language_info": {
   "codemirror_mode": {
    "name": "ipython",
    "version": 3
   },
   "file_extension": ".py",
   "mimetype": "text/x-python",
   "name": "python",
   "nbconvert_exporter": "python",
   "pygments_lexer": "ipython3",
   "version": "3.13.7"
  }
 },
 "nbformat": 4,
 "nbformat_minor": 5
}
