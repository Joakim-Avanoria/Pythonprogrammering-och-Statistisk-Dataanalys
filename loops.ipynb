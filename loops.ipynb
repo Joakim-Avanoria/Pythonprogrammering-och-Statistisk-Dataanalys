{
 "cells": [
  {
   "cell_type": "markdown",
   "id": "1821e29c",
   "metadata": {},
   "source": [
    "# Loops"
   ]
  },
  {
   "cell_type": "code",
   "execution_count": 10,
   "id": "f29c076f",
   "metadata": {},
   "outputs": [
    {
     "name": "stdout",
     "output_type": "stream",
     "text": [
      "5\n",
      "4\n",
      "3\n",
      "2\n",
      "1\n",
      "0\n"
     ]
    }
   ],
   "source": [
    "# [0, 1, 2, 3, 4]\n",
    "\n",
    "# for i in range(5):\n",
    "#     print(i)\n",
    "\n",
    "# for i in range(3, 10):\n",
    "#     print(i)\n",
    "\n",
    "# for i in range(0, 20, 4):\n",
    "#     print(i)\n",
    "\n",
    "for i in range(5, -1, -1):\n",
    "    print(i)"
   ]
  },
  {
   "cell_type": "code",
   "execution_count": 14,
   "id": "3aafa451",
   "metadata": {},
   "outputs": [
    {
     "name": "stdout",
     "output_type": "stream",
     "text": [
      "Joakim\n",
      "Hans\n",
      "Jeanette\n",
      "Emil\n",
      "Tommy\n"
     ]
    }
   ],
   "source": [
    "names = [\"Joakim\", \"Hans\", \"Jeanette\", \"Emil\", \"Tommy\"]\n",
    "\n",
    "# for n in range(len(names)):\n",
    "#     print(n, names[n])\n",
    "# for n in range(len(names) - 1, -1, -1):\n",
    "#     print(n, names[n])\n",
    "\n",
    "for name in names:\n",
    "    print(name)"
   ]
  },
  {
   "cell_type": "code",
   "execution_count": 16,
   "id": "cf731ddd",
   "metadata": {},
   "outputs": [
    {
     "name": "stdout",
     "output_type": "stream",
     "text": [
      "0\n",
      "1\n",
      "2\n",
      "3\n",
      "4\n"
     ]
    }
   ],
   "source": [
    "for i in range(10):\n",
    "    if i == 5:\n",
    "        break\n",
    "\n",
    "    print(i)"
   ]
  },
  {
   "cell_type": "code",
   "execution_count": 17,
   "id": "56408384",
   "metadata": {},
   "outputs": [
    {
     "name": "stdout",
     "output_type": "stream",
     "text": [
      "5\n",
      "6\n",
      "7\n",
      "8\n",
      "9\n"
     ]
    }
   ],
   "source": [
    "for i in range(10):\n",
    "    if i < 5:\n",
    "        continue\n",
    "\n",
    "    print(i)"
   ]
  },
  {
   "cell_type": "markdown",
   "id": "8bc04e49",
   "metadata": {},
   "source": [
    "## Övning\n",
    "Skapa en loop som går från 0 -> 15\n",
    "där vi skriver ut alla jämna tal samt hur många jämna tal som finns"
   ]
  },
  {
   "cell_type": "code",
   "execution_count": 26,
   "id": "79386004",
   "metadata": {},
   "outputs": [
    {
     "name": "stdout",
     "output_type": "stream",
     "text": [
      "0\n",
      "2\n",
      "4\n",
      "6\n",
      "8\n",
      "10\n",
      "12\n",
      "14\n",
      "counter: 8\n"
     ]
    }
   ],
   "source": [
    "counter = 0\n",
    "\n",
    "for i in range(15):\n",
    "    # if i % 2 == 0:\n",
    "    #     counter += 1\n",
    "    #     print(i)\n",
    "\n",
    "    if i % 2 == 1:\n",
    "        continue\n",
    "\n",
    "    counter += 1\n",
    "    print(i)\n",
    "\n",
    "print(\"counter: \" + str(counter))\n",
    "    "
   ]
  },
  {
   "cell_type": "markdown",
   "id": "b090f96c",
   "metadata": {},
   "source": [
    "## While-loop"
   ]
  },
  {
   "cell_type": "code",
   "execution_count": 28,
   "id": "517a3b12",
   "metadata": {},
   "outputs": [
    {
     "name": "stdout",
     "output_type": "stream",
     "text": [
      "Räknare: 0\n",
      "Räknare: 1\n",
      "Räknare: 2\n",
      "Räknare: 3\n",
      "Räknare: 4\n",
      "Räknare: 5\n"
     ]
    }
   ],
   "source": [
    "count = 0\n",
    "\n",
    "while count <= 5:\n",
    "    print(\"Räknare:\", count)\n",
    "    count += 1"
   ]
  }
 ],
 "metadata": {
  "kernelspec": {
   "display_name": ".venv",
   "language": "python",
   "name": "python3"
  },
  "language_info": {
   "codemirror_mode": {
    "name": "ipython",
    "version": 3
   },
   "file_extension": ".py",
   "mimetype": "text/x-python",
   "name": "python",
   "nbconvert_exporter": "python",
   "pygments_lexer": "ipython3",
   "version": "3.13.7"
  }
 },
 "nbformat": 4,
 "nbformat_minor": 5
}
